{
  "nbformat": 4,
  "nbformat_minor": 0,
  "metadata": {
    "colab": {
      "provenance": []
    },
    "kernelspec": {
      "name": "python3",
      "display_name": "Python 3"
    },
    "language_info": {
      "name": "python"
    }
  },
  "cells": [
    {
      "cell_type": "markdown",
      "source": [
        "Aluno: Igor Barreto\n",
        "\n",
        "Código de Aluno: 1477042\n",
        "\n",
        "e-mail: 1477042@sga.pucminas.br"
      ],
      "metadata": {
        "id": "vim09zclylzo"
      }
    },
    {
      "cell_type": "markdown",
      "source": [
        "#**Lista de Exercícios: Tensores em PyTorch**\n",
        "\n",
        "Esta série de exercícios foi projetada para ajudar a consolidar o seu entendimento sobre o uso e manipulação de tensores, que são a base fundamental para o processamento de dados em PyTorch. Os tensores são estruturas de dados multidimensionais que formam a espinha dorsal de operações em aprendizado de máquina e processamento de dados.\n",
        "\n",
        "Nesta lista, você irá explorar desde conceitos básicos, como a criação e manipulação de tensores, até operações mais avançadas, como broadcasting e reshaping. Ao final, você terá adquirido um sólido entendimento sobre como trabalhar com tensores no ecossistema PyTorch.\n",
        "\n",
        "Instruções:\n",
        "- Leia cada exercício atentamente e siga as instruções fornecidas.\n",
        "- Complete cada exercício no espaço designado.\n",
        "- Alguns exercícios podem exigir o uso de funções específicas do PyTorch.\n",
        "- Certifique-se de consultar a documentação oficial quando necessário.\n",
        "\n",
        "Lembre-se de que a prática é essencial para aprimorar suas habilidades em PyTorch. Vamos começar!"
      ],
      "metadata": {
        "id": "vTpk_pbtRnhz"
      }
    },
    {
      "cell_type": "code",
      "source": [
        "import torch"
      ],
      "metadata": {
        "id": "86vOemAQSdEt"
      },
      "execution_count": null,
      "outputs": []
    },
    {
      "cell_type": "markdown",
      "source": [
        "## **Exercício 1: Criando Tensores**\n",
        "Crie um tensor 1D de números inteiros de 1 a 5."
      ],
      "metadata": {
        "id": "puqWzGlTR_KD"
      }
    },
    {
      "cell_type": "code",
      "source": [
        "tensor_1D= torch.IntTensor([1,2,3,4,5])\n",
        "print(f'Tensor 1D: \\n\\n{tensor_1D} \\n\\nTensor type: {tensor_1D.dtype} \\nTensor shape: {tensor_1D.shape}\\nTensor nDimensions: {tensor_1D.dim()}\\nTensor nElements: {tensor_1D.numel()}')"
      ],
      "metadata": {
        "id": "m5nx33tWSGR6",
        "colab": {
          "base_uri": "https://localhost:8080/"
        },
        "outputId": "a2a7d228-5204-4232-867a-543c08f4adda"
      },
      "execution_count": null,
      "outputs": [
        {
          "output_type": "stream",
          "name": "stdout",
          "text": [
            "Tensor 1D: \n",
            "\n",
            "tensor([1, 2, 3, 4, 5], dtype=torch.int32) \n",
            "\n",
            "Tensor type: torch.int32 \n",
            "Tensor shape: torch.Size([5])\n",
            "Tensor nDimensions: 1\n",
            "Tensor nElements: 5\n"
          ]
        }
      ]
    },
    {
      "cell_type": "markdown",
      "source": [
        "Crie um tensor 2D de números reais de 0 a 8 em uma matriz 2x4."
      ],
      "metadata": {
        "id": "w8qxcBaXSG0T"
      }
    },
    {
      "cell_type": "code",
      "execution_count": null,
      "metadata": {
        "id": "vFy4qLVaRciz",
        "colab": {
          "base_uri": "https://localhost:8080/"
        },
        "outputId": "a87d3693-982a-4dff-a157-ca15e77d6e8b"
      },
      "outputs": [
        {
          "output_type": "stream",
          "name": "stdout",
          "text": [
            "Tensor 2D: \n",
            "\n",
            "tensor([[0, 1, 2, 3],\n",
            "        [4, 5, 6, 7]], dtype=torch.int32) \n",
            "\n",
            "Tensor type: torch.int32 \n",
            "Tensor shape: torch.Size([2, 4]) \n",
            "Tensor nDimensions: 2\n",
            "Tensor nElements: 8\n"
          ]
        }
      ],
      "source": [
        "tensor_2D= torch.IntTensor([[0, 1, 2, 3],[4, 5, 6, 7]])\n",
        "print(f'Tensor 2D: \\n\\n{tensor_2D} \\n\\nTensor type: {tensor_2D.dtype} \\nTensor shape: {tensor_2D.shape} \\nTensor nDimensions: {tensor_2D.dim()}\\nTensor nElements: {tensor_2D.numel()}')"
      ]
    },
    {
      "cell_type": "markdown",
      "source": [
        "##**Exercício 2: Operações Básicas**"
      ],
      "metadata": {
        "id": "5HtpI2OCSQLQ"
      }
    },
    {
      "cell_type": "markdown",
      "source": [
        "Multiplique o tensor 1D do exercicio anterior por 3"
      ],
      "metadata": {
        "id": "9MZtFSn0SUQJ"
      }
    },
    {
      "cell_type": "code",
      "source": [
        "escalar = 3\n",
        "tensor_1D = tensor_1D= torch.IntTensor([1,2,3,4,5])\n",
        "result_tensor = 3* tensor_1D\n",
        "result_tensor\n",
        "\n",
        "print(f'Multiplicando o tensor 1D por 3: \\n\\n{tensor_1D} x {escalar} = {result_tensor}')"
      ],
      "metadata": {
        "id": "dGYgQvb5STR5",
        "colab": {
          "base_uri": "https://localhost:8080/"
        },
        "outputId": "324e802e-9a3d-4d12-d935-2cba23df4186"
      },
      "execution_count": null,
      "outputs": [
        {
          "output_type": "stream",
          "name": "stdout",
          "text": [
            "Multiplicando o tensor 1D por 3: \n",
            "\n",
            "tensor([1, 2, 3, 4, 5], dtype=torch.int32) x 3 = tensor([ 3,  6,  9, 12, 15], dtype=torch.int32)\n"
          ]
        }
      ]
    },
    {
      "cell_type": "markdown",
      "source": [
        "Calcule o produto escala do tensor do exercício anterior com o tensor 1D criado na célula abaixo"
      ],
      "metadata": {
        "id": "_l6XLiA9S1bR"
      }
    },
    {
      "cell_type": "code",
      "source": [
        "tensor_1d_new = torch.LongTensor([-1, -10, 0, 2, 3])\n",
        "print(tensor_1d_new)"
      ],
      "metadata": {
        "id": "DTy6Pg1YSx2x",
        "colab": {
          "base_uri": "https://localhost:8080/"
        },
        "outputId": "a9b38968-1834-4293-8b9c-c51577160774"
      },
      "execution_count": null,
      "outputs": [
        {
          "output_type": "stream",
          "name": "stdout",
          "text": [
            "tensor([ -1, -10,   0,   2,   3])\n"
          ]
        }
      ]
    },
    {
      "cell_type": "code",
      "source": [
        "result_prod_escalar = tensor_1D * tensor_1d_new\n",
        "result_prod_escalar\n",
        "\n",
        "print(f'Produto escalar de 2 tensores: \\n\\n{tensor_1D} x {tensor_1d_new} = {result_prod_escalar}')"
      ],
      "metadata": {
        "id": "2SlbFAlsTO8A",
        "colab": {
          "base_uri": "https://localhost:8080/"
        },
        "outputId": "0f41015f-a07c-4fcf-95b7-21f84692787d"
      },
      "execution_count": null,
      "outputs": [
        {
          "output_type": "stream",
          "name": "stdout",
          "text": [
            "Produto escalar de 2 tensores: \n",
            "\n",
            "tensor([1, 2, 3, 4, 5], dtype=torch.int32) x tensor([ -1, -10,   0,   2,   3]) = tensor([ -1, -20,   0,   8,  15])\n"
          ]
        }
      ]
    },
    {
      "cell_type": "markdown",
      "source": [
        "##**Exercício 3: Operações Avançadas**"
      ],
      "metadata": {
        "id": "JUQ9BXQgTf2O"
      }
    },
    {
      "cell_type": "markdown",
      "source": [
        "Crie um tensor 1D de números inteiros de 1 a 16 e utilize o método view para transformar o tensor em uma matriz 4x4."
      ],
      "metadata": {
        "id": "n6korqwFTxOs"
      }
    },
    {
      "cell_type": "code",
      "source": [
        "import numpy as np\n",
        "elements = np.arange(1, 17)\n",
        "tensor_1D = torch.IntTensor(elements)\n",
        "\n",
        "print(f'Tensor 1D de números inteiros de 1 a 16: \\n\\n {tensor_1D }\\n\\nTensor type: {tensor_1D.dtype} \\nTensor shape: {tensor_1D.shape}\\nTensor nDimensions: {tensor_1D.dim()}\\nTensor nElements: {tensor_1D.numel()}')"
      ],
      "metadata": {
        "id": "Lrl6uDOeTUKQ",
        "colab": {
          "base_uri": "https://localhost:8080/"
        },
        "outputId": "97e2555c-0530-4240-e573-74bf19fe418e"
      },
      "execution_count": null,
      "outputs": [
        {
          "output_type": "stream",
          "name": "stdout",
          "text": [
            "Tensor 1D de números inteiros de 1 a 16: \n",
            "\n",
            " tensor([ 1,  2,  3,  4,  5,  6,  7,  8,  9, 10, 11, 12, 13, 14, 15, 16],\n",
            "       dtype=torch.int32)\n",
            "\n",
            "Tensor type: torch.int32 \n",
            "Tensor shape: torch.Size([16])\n",
            "Tensor nDimensions: 1\n",
            "Tensor nElements: 16\n"
          ]
        }
      ]
    },
    {
      "cell_type": "code",
      "source": [
        "print(f'view matriz 4x4: \\n\\n {tensor_1D.view(4,4)}')"
      ],
      "metadata": {
        "colab": {
          "base_uri": "https://localhost:8080/"
        },
        "id": "mqiB99YJqewA",
        "outputId": "cad6d392-5e02-4080-cd46-c20d181e1c2c"
      },
      "execution_count": null,
      "outputs": [
        {
          "output_type": "stream",
          "name": "stdout",
          "text": [
            "view matriz 4x4: \n",
            "\n",
            " tensor([[ 1,  2,  3,  4],\n",
            "        [ 5,  6,  7,  8],\n",
            "        [ 9, 10, 11, 12],\n",
            "        [13, 14, 15, 16]], dtype=torch.int32)\n"
          ]
        }
      ]
    },
    {
      "cell_type": "markdown",
      "source": [
        "Divida o tensor 1D de 1 a 16 em 4 partes iguais."
      ],
      "metadata": {
        "id": "fUJPbbPBUHDZ"
      }
    },
    {
      "cell_type": "code",
      "source": [
        "print(f'Dividindo o tensor em 4 partes iguais: \\n\\n  {tensor_1D.chunk(4)}')"
      ],
      "metadata": {
        "id": "rwsjOQ1zT_CA",
        "colab": {
          "base_uri": "https://localhost:8080/"
        },
        "outputId": "343eaa0d-3676-4e27-8ba8-3e9785ed5fa6"
      },
      "execution_count": null,
      "outputs": [
        {
          "output_type": "stream",
          "name": "stdout",
          "text": [
            "Dividindo o tensor em 4 partes iguais: \n",
            "\n",
            "  (tensor([1, 2, 3, 4], dtype=torch.int32), tensor([5, 6, 7, 8], dtype=torch.int32), tensor([ 9, 10, 11, 12], dtype=torch.int32), tensor([13, 14, 15, 16], dtype=torch.int32))\n"
          ]
        }
      ]
    },
    {
      "cell_type": "code",
      "source": [
        "t_chunk = tensor_1D.chunk(4)\n",
        "print('Dividindo o tensor em 4 partes iguais: \\n')\n",
        "for i, chunk in enumerate(t_chunk):\n",
        "  print(f'  chunk{i+1}: {chunk}')"
      ],
      "metadata": {
        "colab": {
          "base_uri": "https://localhost:8080/"
        },
        "id": "Pucg62ustfmi",
        "outputId": "f6eeacfa-7b8d-4d62-cdba-a827c1c5ce8b"
      },
      "execution_count": null,
      "outputs": [
        {
          "output_type": "stream",
          "name": "stdout",
          "text": [
            "Dividindo o tensor em 4 partes iguais: \n",
            "\n",
            "  chunk1: tensor([1, 2, 3, 4], dtype=torch.int32)\n",
            "  chunk2: tensor([5, 6, 7, 8], dtype=torch.int32)\n",
            "  chunk3: tensor([ 9, 10, 11, 12], dtype=torch.int32)\n",
            "  chunk4: tensor([13, 14, 15, 16], dtype=torch.int32)\n"
          ]
        }
      ]
    },
    {
      "cell_type": "markdown",
      "source": [
        "Crie um novo tensor 2D empilhando essas partes verticalmente."
      ],
      "metadata": {
        "id": "v_kEbmTZUIjr"
      }
    },
    {
      "cell_type": "code",
      "source": [
        "# Converta as partes em um tensor 2D\n",
        "tensor_2D = torch.stack(t_chunk)\n",
        "\n",
        "print(f'Tensor 2D empilhado: \\n  {tensor_2D}')"
      ],
      "metadata": {
        "id": "xLMGbqwMULdg",
        "colab": {
          "base_uri": "https://localhost:8080/"
        },
        "outputId": "51bf5198-f695-4c10-d6c2-3d586149ef2d"
      },
      "execution_count": null,
      "outputs": [
        {
          "output_type": "stream",
          "name": "stdout",
          "text": [
            "Tensor 2D empilhado: \n",
            "  tensor([[ 1,  2,  3,  4],\n",
            "        [ 5,  6,  7,  8],\n",
            "        [ 9, 10, 11, 12],\n",
            "        [13, 14, 15, 16]], dtype=torch.int32)\n"
          ]
        }
      ]
    }
  ]
}